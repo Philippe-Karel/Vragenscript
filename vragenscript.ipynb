{
  "nbformat": 4,
  "nbformat_minor": 0,
  "metadata": {
    "colab": {
      "provenance": [],
      "authorship_tag": "ABX9TyPzdxMHLv0j0Xl4JbYP7YEh",
      "include_colab_link": true
    },
    "kernelspec": {
      "name": "python3",
      "display_name": "Python 3"
    },
    "language_info": {
      "name": "python"
    }
  },
  "cells": [
    {
      "cell_type": "markdown",
      "metadata": {
        "id": "view-in-github",
        "colab_type": "text"
      },
      "source": [
        "<a href=\"https://colab.research.google.com/github/Philippe-Karel/Vragenscript/blob/main/vragenscript.ipynb\" target=\"_parent\"><img src=\"https://colab.research.google.com/assets/colab-badge.svg\" alt=\"Open In Colab\"/></a>"
      ]
    },
    {
      "cell_type": "code",
      "execution_count": 1,
      "metadata": {
        "collapsed": true,
        "id": "tc-xSjw-aMTe"
      },
      "outputs": [],
      "source": [
        "# Alle benodigde libraries importeren na ze gedownload te hebben\n",
        "# !pip install sympy\n",
        "import sympy as smp\n",
        "import random as rt\n",
        "\n",
        "# Symbolen definen van ten voren. Deze zijn globaal\n",
        "x = smp.Symbol('x', real=True)"
      ]
    },
    {
      "cell_type": "code",
      "source": [
        "# Hier komen alle functies die integreer vragen maken en ze doorgeven aan de checker\n",
        "''' Machtsregel vragen:\n",
        "∫ax^b dx = a/b * x^(b + 1) + c\n",
        "'''\n",
        "def machtsregel_vragen(difficulty='Beginner'): # Beginner wordt standaard gedefined indien er iets fout gaat\n",
        "  if difficulty == 'Beginner':\n",
        "    highest_waarde = 10 # Hoogste random waarde, is inclusive. Geldt voor elke functie\n",
        "    highest_macht = 5   # Hoogste macht waarde, is inclusive. Geldt voor elke functie\n",
        "    kans = 6            # De kans dat je een breuk krijgt. Geldt voor elke functie met een breuk optie\n",
        "\n",
        "  elif difficulty == 'Medium':\n",
        "    highest_waarde = 30\n",
        "    highest_macht = 15\n",
        "    kans = 4\n",
        "\n",
        "  elif difficulty == 'Hard':\n",
        "    highest_waarde = 100\n",
        "    highest_macht = 30\n",
        "    kans = 2\n",
        "\n",
        "  else:\n",
        "    highest_waarde = 10\n",
        "    highest_macht = 5\n",
        "    kans = 6\n",
        "\n",
        "  noemer = rt.randint(1, highest_waarde)                                     # De noemer en/of coëfficiënt. De teller is er alleen als je een breuk krijgt. Deze is willekeurig\n",
        "  macht = rt.randint(1, highest_macht)                                       # De macht waarde, deze is willekeurig\n",
        "  breuk_of_normaal = rt.choice(['Breuk'] * (10 - kans) + ['Normaal'] * kans) # Kijkt of je een breuk hebt of niet\n",
        "\n",
        "  if breuk_of_normaal == 'Breuk':                                            # Is er een breuk, dan zit er een breuk in je gegeven functie\n",
        "    teller = rt.randint(1, highest_waarde)                                   # Bij een breuk hoort een teller\n",
        "    return smp.Rational(noemer, teller)*x**macht\n",
        "\n",
        "  return noemer*x**macht\n",
        "''' Machtsregel vragen '''\n",
        "#------------------------------#\n",
        "''' Logaritmische vragen:\n",
        "∫ log(ax^b, g) dx = ∫ ln(ax^b) / ln(g) dx = (xln(ax^b) - bx) / ln(g)\n",
        "'''\n",
        "def log_vragen(difficulty='Beginner'):\n",
        "  if difficulty == 'Beginner':\n",
        "    highest_coëfficiënt = 10\n",
        "    highest_grondtal = 12  # Logaritme hebben grondtallen, dus vandaar\n",
        "    highest_macht = 5\n",
        "    kans = 6\n",
        "\n",
        "  elif difficulty == 'Medium':\n",
        "    highest_coëfficiënt = 30\n",
        "    highest_grondtal = 25\n",
        "    highest_macht = 15\n",
        "    kans = 4\n",
        "\n",
        "  elif difficulty == 'Hard':\n",
        "    highest_coëfficiënt = 100\n",
        "    highest_grondtal = 60\n",
        "    highest_macht = 30\n",
        "    kans = 2\n",
        "\n",
        "  else:\n",
        "    highest_waarde = 10\n",
        "    highest_macht = 5\n",
        "    kans = 6\n",
        "\n",
        "  coëfficiënt = rt.randint(1, highest_coëfficiënt)\n",
        "  macht = rt.randint(1, highest_macht)\n",
        "  log_of_ln = rt.choice(['Log'] * (10 - kans) + ['Ln'] * kans)\n",
        "\n",
        "#if log_of_ln == 'Ln':                           # Bij code geldt dat het natuurlijke logaritme ln(x) = log(x), dus dat moet handmatig gecheckt worden. Hiervoor ben ik te lui dus geen ln\n",
        "#return smp.log(coëfficiënt*x**macht, e)\n",
        "\n",
        "  grondtal = rt.randint(1, highest_grondtal)\n",
        "  return smp.log(coëfficiënt*x**macht, grondtal)\n",
        "''' Logaritmische vragen '''\n",
        "#------------------------------#\n",
        "''' Natuurlijk getal e vragen '''\n",
        "def e_vragen(difficulty='Beginner'):\n",
        "  if difficulty == 'Beginner':\n",
        "    highest_waarde = 10\n",
        "    highest_macht = 5\n",
        "    kans = 6\n",
        "\n",
        "  elif difficulty == 'Medium':\n",
        "    highest_waarde = 30\n",
        "    highest_macht = 15\n",
        "    kans = 4\n",
        "\n",
        "  elif difficulty == 'Hard':\n",
        "    highest_waarde = 100\n",
        "    highest_macht = 30\n",
        "    kans = 2\n",
        "\n",
        "  else:\n",
        "    highest_waarde = 10\n",
        "    highest_macht = 5\n",
        "    kans = 6\n",
        "\n",
        "  noemer = rt.randint(1, highest_waarde)\n",
        "  teller = rt.randint(1, highest_waarde)\n",
        "  macht = rt.randint(1, highest_macht)\n",
        "  breuk_of_normaal = rt.choice(['Breuk'] * (10 - kans) + ['Normaal'] * kans)\n",
        "  if breuk_of_normaal == 'Breuk':\n",
        "    return smp.Rational(noemer, teller)*smp.exp(x*macht)\n",
        "\n",
        "  return noemer*smp.exp(x*macht)\n",
        "\n",
        "''' Natuurlijk getal e vragen '''\n",
        "#------------------------------#\n",
        "''' Meerdereterm vragen\n",
        "Alle voorgaande vragen, maar dan willekeurig\n",
        "'''\n",
        "def meerderetermen_vragen(difficulty='Beginner'):\n",
        "  if difficulty == 'Beginner':\n",
        "    highest_aantal = 2\n",
        "\n",
        "  elif difficulty == 'Medium':\n",
        "    highest_aantal = 5\n",
        "\n",
        "  elif difficulty == 'Hard':\n",
        "    highest_aantal = 8\n",
        "\n",
        "  else:\n",
        "    highest_aantal = 2\n",
        "\n",
        "  waarde = 0\n",
        "  aantal = 0\n",
        "\n",
        "  while aantal < highest_aantal:\n",
        "    aantal += 1\n",
        "    keuzes = [machtsregel_vragen(difficulty), e_vragen(difficulty), log_vragen(difficulty)]\n",
        "    waarde += rt.choice(keuzes)\n",
        "\n",
        "  return waarde\n",
        "''' Meerdereterm vragen '''"
      ],
      "metadata": {
        "colab": {
          "base_uri": "https://localhost:8080/",
          "height": 35
        },
        "id": "e-TYS2vpa_4n",
        "outputId": "7edfe68b-58e1-4a71-f788-ff160d924ae8"
      },
      "execution_count": 2,
      "outputs": [
        {
          "output_type": "execute_result",
          "data": {
            "text/plain": [
              "' Meerdereterm vragen '"
            ],
            "application/vnd.google.colaboratory.intrinsic+json": {
              "type": "string"
            }
          },
          "metadata": {},
          "execution_count": 2
        }
      ]
    },
    {
      "cell_type": "code",
      "source": [
        "# Hier komt een functie die een keuze maakt op basis van database informatie. De informatie zal een array zijn met alle foutsoorten die de leerling heeft en daarmee wordt een kans genomen\n",
        "def keuze(informatie, difficulty):\n",
        "  opties = [machtsregel_vragen(difficulty), e_vragen(difficulty), log_vragen(difficulty), meerderetermen_vragen(difficulty)]\n",
        "  kans = [functie * opties[ind] for ind, functie in enumerate(informatie)]\n",
        "\n",
        "  return rt.choice(kans)"
      ],
      "metadata": {
        "id": "zuxeSYpHiCLF"
      },
      "execution_count": 3,
      "outputs": []
    },
    {
      "cell_type": "code",
      "source": [
        "# Hier komt een functie die het antwoord nakijkt op basis van de eerder gekozen functie\n",
        "API_request = ''\n",
        "#gekozen_functie = keuze(API_request, 'Beginner') # Dit wordt naar de PHP gestuurt en ook gecheckt door de code hier\n",
        "\n",
        "def check(gekozen, antwoord):\n",
        "  try:\n",
        "    juist = smp.integrate(gekozen) # Berekent de juiste integraal\n",
        "    constante = True\n",
        "    leerling_antwoord = ''.join(value if not value.isalpha() or value not in 'abdefghijklmnopqrstuvwyz' else 'c' for value in leerling.lower()) # Zorgt voor de juiste constante\n",
        "\n",
        "    if 'c' not in leerling_antwoord: # Kijkt of er een constante is\n",
        "      constante = False\n",
        "\n",
        "    leerling_smp = smp.sympify(leerling_antwoord.replace('^', '**')) # Zet het om naar een sympy vergelijking. Hieronder wordt de juiste variabele toegediend en de constante weggehaald\n",
        "    leerling = smp.simplify(leerling_smp - smp.Symbol('c')).subs('x', x) # Zat hier een goed uur op vast. Antwoord van een leerling maakt de x een str en niet de pre-defined x variabele\n",
        "\n",
        "    if leerling != juist:  # Eerste waarde is om te kijken of je de vraag goed hebt, 2e of er een constante is\n",
        "      return False, constante\n",
        "\n",
        "    return True, constante\n",
        "\n",
        "  except Exception as exc:\n",
        "    print(f'Er is iets fout gegaan, vraag wordt fout gerekend en niks wordt geüpdate')\n",
        "    return False, None, True # Hier is een derde waarde voor als er een foutmelding is. Om die reden is de 2e onbekent want er kan niet gekeken worden voor een constante"
      ],
      "metadata": {
        "id": "eRWYiIKRiIqM"
      },
      "execution_count": 8,
      "outputs": []
    }
  ]
}